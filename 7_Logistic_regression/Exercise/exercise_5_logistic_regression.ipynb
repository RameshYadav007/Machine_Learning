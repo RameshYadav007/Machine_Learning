{
 "cells": [
  {
   "cell_type": "markdown",
   "metadata": {
    "collapsed": true
   },
   "source": [
    "### Train the logistic regression classifiler to predict wheher a flower is iris verginica or not\n"
   ]
  },
  {
   "cell_type": "code",
   "execution_count": 1,
   "metadata": {
    "collapsed": true
   },
   "outputs": [],
   "source": [
    "import numpy as np\n",
    "from sklearn import datasets\n"
   ]
  },
  {
   "cell_type": "code",
   "execution_count": 4,
   "metadata": {},
   "outputs": [],
   "source": [
    "#load iris datasets, data is label and target is feature\n",
    "iris=datasets.load_iris()\n"
   ]
  },
  {
   "cell_type": "code",
   "execution_count": 14,
   "metadata": {},
   "outputs": [
    {
     "name": "stdout",
     "output_type": "stream",
     "text": [
      "['data', 'target', 'target_names', 'DESCR', 'feature_names']\n"
     ]
    }
   ],
   "source": [
    "print(list(iris.keys()))"
   ]
  },
  {
   "cell_type": "code",
   "execution_count": 15,
   "metadata": {},
   "outputs": [
    {
     "name": "stdout",
     "output_type": "stream",
     "text": [
      "Iris Plants Database\n",
      "====================\n",
      "\n",
      "Notes\n",
      "-----\n",
      "Data Set Characteristics:\n",
      "    :Number of Instances: 150 (50 in each of three classes)\n",
      "    :Number of Attributes: 4 numeric, predictive attributes and the class\n",
      "    :Attribute Information:\n",
      "        - sepal length in cm\n",
      "        - sepal width in cm\n",
      "        - petal length in cm\n",
      "        - petal width in cm\n",
      "        - class:\n",
      "                - Iris-Setosa\n",
      "                - Iris-Versicolour\n",
      "                - Iris-Virginica\n",
      "    :Summary Statistics:\n",
      "\n",
      "    ============== ==== ==== ======= ===== ====================\n",
      "                    Min  Max   Mean    SD   Class Correlation\n",
      "    ============== ==== ==== ======= ===== ====================\n",
      "    sepal length:   4.3  7.9   5.84   0.83    0.7826\n",
      "    sepal width:    2.0  4.4   3.05   0.43   -0.4194\n",
      "    petal length:   1.0  6.9   3.76   1.76    0.9490  (high!)\n",
      "    petal width:    0.1  2.5   1.20  0.76     0.9565  (high!)\n",
      "    ============== ==== ==== ======= ===== ====================\n",
      "\n",
      "    :Missing Attribute Values: None\n",
      "    :Class Distribution: 33.3% for each of 3 classes.\n",
      "    :Creator: R.A. Fisher\n",
      "    :Donor: Michael Marshall (MARSHALL%PLU@io.arc.nasa.gov)\n",
      "    :Date: July, 1988\n",
      "\n",
      "This is a copy of UCI ML iris datasets.\n",
      "http://archive.ics.uci.edu/ml/datasets/Iris\n",
      "\n",
      "The famous Iris database, first used by Sir R.A Fisher\n",
      "\n",
      "This is perhaps the best known database to be found in the\n",
      "pattern recognition literature.  Fisher's paper is a classic in the field and\n",
      "is referenced frequently to this day.  (See Duda & Hart, for example.)  The\n",
      "data set contains 3 classes of 50 instances each, where each class refers to a\n",
      "type of iris plant.  One class is linearly separable from the other 2; the\n",
      "latter are NOT linearly separable from each other.\n",
      "\n",
      "References\n",
      "----------\n",
      "   - Fisher,R.A. \"The use of multiple measurements in taxonomic problems\"\n",
      "     Annual Eugenics, 7, Part II, 179-188 (1936); also in \"Contributions to\n",
      "     Mathematical Statistics\" (John Wiley, NY, 1950).\n",
      "   - Duda,R.O., & Hart,P.E. (1973) Pattern Classification and Scene Analysis.\n",
      "     (Q327.D83) John Wiley & Sons.  ISBN 0-471-22361-1.  See page 218.\n",
      "   - Dasarathy, B.V. (1980) \"Nosing Around the Neighborhood: A New System\n",
      "     Structure and Classification Rule for Recognition in Partially Exposed\n",
      "     Environments\".  IEEE Transactions on Pattern Analysis and Machine\n",
      "     Intelligence, Vol. PAMI-2, No. 1, 67-71.\n",
      "   - Gates, G.W. (1972) \"The Reduced Nearest Neighbor Rule\".  IEEE Transactions\n",
      "     on Information Theory, May 1972, 431-433.\n",
      "   - See also: 1988 MLC Proceedings, 54-64.  Cheeseman et al\"s AUTOCLASS II\n",
      "     conceptual clustering system finds 3 classes in the data.\n",
      "   - Many, many more ...\n",
      "\n"
     ]
    }
   ],
   "source": [
    "print(iris['DESCR'])"
   ]
  },
  {
   "cell_type": "code",
   "execution_count": 9,
   "metadata": {},
   "outputs": [
    {
     "data": {
      "text/plain": [
       "(150, 4)"
      ]
     },
     "execution_count": 9,
     "metadata": {},
     "output_type": "execute_result"
    }
   ],
   "source": [
    "\n",
    "x=iris['data']\n",
    "x.shape"
   ]
  },
  {
   "cell_type": "markdown",
   "metadata": {},
   "source": [
    "## checking with verginica"
   ]
  },
  {
   "cell_type": "code",
   "execution_count": 21,
   "metadata": {},
   "outputs": [],
   "source": [
    "#we need just 4th columns so need to do slicing as follow\n",
    "x=iris['data'][:,3:]  # 4th columns is patel width as we can obserb from DESCR\n",
    "y=(iris['target']==2).astype(np.int) #willl give verginica in true false\n",
    " #.astype(np.int)-->>will give true false as 0 and 1, if iris is verginica give 1 else 0"
   ]
  },
  {
   "cell_type": "code",
   "execution_count": 22,
   "metadata": {},
   "outputs": [
    {
     "data": {
      "text/plain": [
       "(array([[ 0.2],\n",
       "        [ 0.2],\n",
       "        [ 0.2],\n",
       "        [ 0.2],\n",
       "        [ 0.2],\n",
       "        [ 0.4],\n",
       "        [ 0.3],\n",
       "        [ 0.2],\n",
       "        [ 0.2],\n",
       "        [ 0.1],\n",
       "        [ 0.2],\n",
       "        [ 0.2],\n",
       "        [ 0.1],\n",
       "        [ 0.1],\n",
       "        [ 0.2],\n",
       "        [ 0.4],\n",
       "        [ 0.4],\n",
       "        [ 0.3],\n",
       "        [ 0.3],\n",
       "        [ 0.3],\n",
       "        [ 0.2],\n",
       "        [ 0.4],\n",
       "        [ 0.2],\n",
       "        [ 0.5],\n",
       "        [ 0.2],\n",
       "        [ 0.2],\n",
       "        [ 0.4],\n",
       "        [ 0.2],\n",
       "        [ 0.2],\n",
       "        [ 0.2],\n",
       "        [ 0.2],\n",
       "        [ 0.4],\n",
       "        [ 0.1],\n",
       "        [ 0.2],\n",
       "        [ 0.1],\n",
       "        [ 0.2],\n",
       "        [ 0.2],\n",
       "        [ 0.1],\n",
       "        [ 0.2],\n",
       "        [ 0.2],\n",
       "        [ 0.3],\n",
       "        [ 0.3],\n",
       "        [ 0.2],\n",
       "        [ 0.6],\n",
       "        [ 0.4],\n",
       "        [ 0.3],\n",
       "        [ 0.2],\n",
       "        [ 0.2],\n",
       "        [ 0.2],\n",
       "        [ 0.2],\n",
       "        [ 1.4],\n",
       "        [ 1.5],\n",
       "        [ 1.5],\n",
       "        [ 1.3],\n",
       "        [ 1.5],\n",
       "        [ 1.3],\n",
       "        [ 1.6],\n",
       "        [ 1. ],\n",
       "        [ 1.3],\n",
       "        [ 1.4],\n",
       "        [ 1. ],\n",
       "        [ 1.5],\n",
       "        [ 1. ],\n",
       "        [ 1.4],\n",
       "        [ 1.3],\n",
       "        [ 1.4],\n",
       "        [ 1.5],\n",
       "        [ 1. ],\n",
       "        [ 1.5],\n",
       "        [ 1.1],\n",
       "        [ 1.8],\n",
       "        [ 1.3],\n",
       "        [ 1.5],\n",
       "        [ 1.2],\n",
       "        [ 1.3],\n",
       "        [ 1.4],\n",
       "        [ 1.4],\n",
       "        [ 1.7],\n",
       "        [ 1.5],\n",
       "        [ 1. ],\n",
       "        [ 1.1],\n",
       "        [ 1. ],\n",
       "        [ 1.2],\n",
       "        [ 1.6],\n",
       "        [ 1.5],\n",
       "        [ 1.6],\n",
       "        [ 1.5],\n",
       "        [ 1.3],\n",
       "        [ 1.3],\n",
       "        [ 1.3],\n",
       "        [ 1.2],\n",
       "        [ 1.4],\n",
       "        [ 1.2],\n",
       "        [ 1. ],\n",
       "        [ 1.3],\n",
       "        [ 1.2],\n",
       "        [ 1.3],\n",
       "        [ 1.3],\n",
       "        [ 1.1],\n",
       "        [ 1.3],\n",
       "        [ 2.5],\n",
       "        [ 1.9],\n",
       "        [ 2.1],\n",
       "        [ 1.8],\n",
       "        [ 2.2],\n",
       "        [ 2.1],\n",
       "        [ 1.7],\n",
       "        [ 1.8],\n",
       "        [ 1.8],\n",
       "        [ 2.5],\n",
       "        [ 2. ],\n",
       "        [ 1.9],\n",
       "        [ 2.1],\n",
       "        [ 2. ],\n",
       "        [ 2.4],\n",
       "        [ 2.3],\n",
       "        [ 1.8],\n",
       "        [ 2.2],\n",
       "        [ 2.3],\n",
       "        [ 1.5],\n",
       "        [ 2.3],\n",
       "        [ 2. ],\n",
       "        [ 2. ],\n",
       "        [ 1.8],\n",
       "        [ 2.1],\n",
       "        [ 1.8],\n",
       "        [ 1.8],\n",
       "        [ 1.8],\n",
       "        [ 2.1],\n",
       "        [ 1.6],\n",
       "        [ 1.9],\n",
       "        [ 2. ],\n",
       "        [ 2.2],\n",
       "        [ 1.5],\n",
       "        [ 1.4],\n",
       "        [ 2.3],\n",
       "        [ 2.4],\n",
       "        [ 1.8],\n",
       "        [ 1.8],\n",
       "        [ 2.1],\n",
       "        [ 2.4],\n",
       "        [ 2.3],\n",
       "        [ 1.9],\n",
       "        [ 2.3],\n",
       "        [ 2.5],\n",
       "        [ 2.3],\n",
       "        [ 1.9],\n",
       "        [ 2. ],\n",
       "        [ 2.3],\n",
       "        [ 1.8]]),\n",
       " array([0, 0, 0, 0, 0, 0, 0, 0, 0, 0, 0, 0, 0, 0, 0, 0, 0, 0, 0, 0, 0, 0, 0,\n",
       "        0, 0, 0, 0, 0, 0, 0, 0, 0, 0, 0, 0, 0, 0, 0, 0, 0, 0, 0, 0, 0, 0, 0,\n",
       "        0, 0, 0, 0, 0, 0, 0, 0, 0, 0, 0, 0, 0, 0, 0, 0, 0, 0, 0, 0, 0, 0, 0,\n",
       "        0, 0, 0, 0, 0, 0, 0, 0, 0, 0, 0, 0, 0, 0, 0, 0, 0, 0, 0, 0, 0, 0, 0,\n",
       "        0, 0, 0, 0, 0, 0, 0, 0, 1, 1, 1, 1, 1, 1, 1, 1, 1, 1, 1, 1, 1, 1, 1,\n",
       "        1, 1, 1, 1, 1, 1, 1, 1, 1, 1, 1, 1, 1, 1, 1, 1, 1, 1, 1, 1, 1, 1, 1,\n",
       "        1, 1, 1, 1, 1, 1, 1, 1, 1, 1, 1, 1]))"
      ]
     },
     "execution_count": 22,
     "metadata": {},
     "output_type": "execute_result"
    }
   ],
   "source": [
    "x,y"
   ]
  },
  {
   "cell_type": "markdown",
   "metadata": {},
   "source": [
    "## make a Logistic linear model"
   ]
  },
  {
   "cell_type": "code",
   "execution_count": 24,
   "metadata": {
    "collapsed": true
   },
   "outputs": [],
   "source": [
    "from sklearn.linear_model import LogisticRegression"
   ]
  },
  {
   "cell_type": "code",
   "execution_count": 25,
   "metadata": {},
   "outputs": [
    {
     "data": {
      "text/plain": [
       "LogisticRegression(C=1.0, class_weight=None, dual=False, fit_intercept=True,\n",
       "          intercept_scaling=1, max_iter=100, multi_class='ovr', n_jobs=1,\n",
       "          penalty='l2', random_state=None, solver='liblinear', tol=0.0001,\n",
       "          verbose=0, warm_start=False)"
      ]
     },
     "execution_count": 25,
     "metadata": {},
     "output_type": "execute_result"
    }
   ],
   "source": [
    "Logistic_reg=LogisticRegression()\n",
    "Logistic_reg.fit(x,y)"
   ]
  },
  {
   "cell_type": "markdown",
   "metadata": {},
   "source": [
    "## check whether iris is verginica or not"
   ]
  },
  {
   "cell_type": "code",
   "execution_count": 27,
   "metadata": {},
   "outputs": [
    {
     "data": {
      "text/plain": [
       "array([0])"
      ]
     },
     "execution_count": 27,
     "metadata": {},
     "output_type": "execute_result"
    }
   ],
   "source": [
    "Logistic_reg.predict([[1.6]])  #1.6 is petal width of iris, 0 means petal length with 1.6 is not verginica"
   ]
  },
  {
   "cell_type": "code",
   "execution_count": 28,
   "metadata": {},
   "outputs": [
    {
     "data": {
      "text/plain": [
       "array([1])"
      ]
     },
     "execution_count": 28,
     "metadata": {},
     "output_type": "execute_result"
    }
   ],
   "source": [
    "Logistic_reg.predict([[2.6]])  #petal length with 2.6 is verginica"
   ]
  },
  {
   "cell_type": "code",
   "execution_count": 31,
   "metadata": {
    "collapsed": true
   },
   "outputs": [],
   "source": [
    "import matplotlib.pyplot as plt\n",
    "%matplotlib inline"
   ]
  },
  {
   "cell_type": "code",
   "execution_count": 32,
   "metadata": {},
   "outputs": [
    {
     "data": {
      "text/plain": [
       "[<matplotlib.lines.Line2D at 0x141aa319c50>]"
      ]
     },
     "execution_count": 32,
     "metadata": {},
     "output_type": "execute_result"
    },
    {
     "data": {
      "image/png": "[encoded data removed]",
      "text/plain": [
       "<matplotlib.figure.Figure at 0x141a90dc4a8>"
      ]
     },
     "metadata": {},
     "output_type": "display_data"
    }
   ],
   "source": [
    "plt.plot(x,y)"
   ]
  },
  {
   "cell_type": "code",
   "execution_count": null,
   "metadata": {
    "collapsed": true
   },
   "outputs": [],
   "source": []
  }
 ],
 "metadata": {
  "kernelspec": {
   "display_name": "Python 3",
   "language": "python",
   "name": "python3"
  },
  "language_info": {
   "codemirror_mode": {
    "name": "ipython",
    "version": 3
   },
   "file_extension": ".py",
   "mimetype": "text/x-python",
   "name": "python",
   "nbconvert_exporter": "python",
   "pygments_lexer": "ipython3",
   "version": "3.6.2"
  }
 },
 "nbformat": 4,
 "nbformat_minor": 2
}
