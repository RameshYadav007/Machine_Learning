{
 "cells": [
  {
   "cell_type": "code",
   "execution_count": 25,
   "metadata": {
    "collapsed": true
   },
   "outputs": [],
   "source": [
    "import numpy as np\n",
    "import matplotlib.pyplot as plt"
   ]
  },
  {
   "cell_type": "code",
   "execution_count": 26,
   "metadata": {
    "collapsed": true
   },
   "outputs": [],
   "source": [
    "%matplotlib inline"
   ]
  },
  {
   "cell_type": "code",
   "execution_count": 49,
   "metadata": {},
   "outputs": [
    {
     "name": "stdout",
     "output_type": "stream",
     "text": [
      "m 0.062 , b 0.018000000000000002,cost[  5.    9.8  16.2  24.2  33.8],iteration0 \n",
      "m 0.122528 , b 0.035592000000000006,cost[  4.84128     9.4064328  15.4739232  23.0437512  32.1159168],iteration1 \n",
      "m 0.181618832 , b 0.052785648000000004,cost[  4.68876039   9.02993826  14.78107658  21.94217534  30.51323455],iteration2 \n",
      "m 0.239306503808 , b 0.069590363712,cost[  4.54218013   8.66974981  14.11992351  20.89270124  28.988083  ],iteration3 \n",
      "m 0.29562421854195203 , b 0.086015343961728,cost[  4.40128972   8.32513595  13.48899881  19.89287831  27.53677444],iteration4 \n",
      "m 0.35060439367025875 , b 0.10206956796255283,cost[  4.26585063   7.99539866  12.88690541  18.94037089  26.15579509],iteration5 \n",
      "m 0.40427867960173774 , b 0.11776180246460617,cost[  4.13563482   7.67987183  12.31231118  18.03295288  24.84179693],iteration6 \n",
      "m 0.4566779778357119 , b 0.13310060678206653,cost[  4.01042429   7.37791979  11.76394589  17.16850262  23.59158995],iteration7 \n",
      "m 0.5078324586826338 , b 0.14809433770148814,cost[  3.89001059   7.08893589  11.24059834  16.34499794  22.40213468],iteration8 \n",
      "m 0.5577715785654069 , b 0.16275115427398937,cost[  3.7741944    6.81234121  10.7411136   15.56051159  21.27053516],iteration9 \n"
     ]
    },
    {
     "data": {
      "image/png": "[encoded data removed]",
      "text/plain": [
       "<matplotlib.figure.Figure at 0x1ed6b5ea208>"
      ]
     },
     "metadata": {},
     "output_type": "display_data"
    }
   ],
   "source": [
    "def descent_gradient(x,y):\n",
    "    m=b=0\n",
    "    learning_rate=0.001\n",
    "    iteration=10\n",
    "    n=len(x)\n",
    "    plt.scatter(x,y,color='red',marker='+',linewidth='5')\n",
    "    for i in range(iteration):\n",
    "        y_prediction=(m*x+b)\n",
    "        plt.plot(x,y_prediction,color='green')\n",
    "        cost_function=1/n*(y-y_prediction)**2\n",
    "        md=-2/n*sum(x*(y-y_prediction))\n",
    "        mb=-2/n*sum(y-y_prediction)\n",
    "        m=m-learning_rate*md\n",
    "        b=b-learning_rate*mb\n",
    "        print(\"m {} , b {},cost{},iteration{} \".format(m,b,cost_function,i))\n",
    "x=np.array([1,2,3,4,5])\n",
    "y=np.array([5,7,9,11,13])\n",
    "descent_gradient(x,y)"
   ]
  },
  {
   "cell_type": "code",
   "execution_count": null,
   "metadata": {
    "collapsed": true
   },
   "outputs": [],
   "source": []
  },
  {
   "cell_type": "code",
   "execution_count": null,
   "metadata": {
    "collapsed": true
   },
   "outputs": [],
   "source": []
  },
  {
   "cell_type": "code",
   "execution_count": null,
   "metadata": {
    "collapsed": true
   },
   "outputs": [],
   "source": []
  }
 ],
 "metadata": {
  "kernelspec": {
   "display_name": "Python 3",
   "language": "python",
   "name": "python3"
  },
  "language_info": {
   "codemirror_mode": {
    "name": "ipython",
    "version": 3
   },
   "file_extension": ".py",
   "mimetype": "text/x-python",
   "name": "python",
   "nbconvert_exporter": "python",
   "pygments_lexer": "ipython3",
   "version": "3.6.2"
  }
 },
 "nbformat": 4,
 "nbformat_minor": 2
}
